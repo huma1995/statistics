{
  "nbformat": 4,
  "nbformat_minor": 0,
  "metadata": {
    "colab": {
      "provenance": [],
      "authorship_tag": "ABX9TyOYVDBqzaRM+a+JZsvnIjAX",
      "include_colab_link": true
    },
    "kernelspec": {
      "name": "ir",
      "display_name": "R"
    },
    "language_info": {
      "name": "R"
    }
  },
  "cells": [
    {
      "cell_type": "markdown",
      "metadata": {
        "id": "view-in-github",
        "colab_type": "text"
      },
      "source": [
        "<a href=\"https://colab.research.google.com/github/huma1995/statistics/blob/main/Resampling_using_bootstrap.ipynb\" target=\"_parent\"><img src=\"https://colab.research.google.com/assets/colab-badge.svg\" alt=\"Open In Colab\"/></a>"
      ]
    },
    {
      "cell_type": "code",
      "execution_count": null,
      "metadata": {
        "id": "WSouamCokPsv"
      },
      "outputs": [],
      "source": [
        "data <- c(5,7,9,10,11)"
      ]
    },
    {
      "cell_type": "markdown",
      "source": [
        "number of bootstrap iterations"
      ],
      "metadata": {
        "id": "y6hKduobmKp-"
      }
    },
    {
      "cell_type": "code",
      "source": [
        "n_iterations <- 1000"
      ],
      "metadata": {
        "id": "vRGKvJXkkV9l"
      },
      "execution_count": null,
      "outputs": []
    },
    {
      "cell_type": "markdown",
      "source": [
        "Bootstrap means storage"
      ],
      "metadata": {
        "id": "o9diP0g1mOQb"
      }
    },
    {
      "cell_type": "code",
      "source": [
        "bootstrap_means <- numeric(n_iterations)"
      ],
      "metadata": {
        "id": "sCdQfWq3kY76"
      },
      "execution_count": null,
      "outputs": []
    },
    {
      "cell_type": "markdown",
      "source": [
        "Perform bootstrap sampling"
      ],
      "metadata": {
        "id": "Bi5LQXydmZHO"
      }
    },
    {
      "cell_type": "code",
      "source": [
        "set.seed(42)\n",
        "for (i in 1:n_iterations) {\n",
        "  bootstrap_sample <- sample(data, size = length(data), replace = TRUE)\n",
        "  bootstrap_means[i] <- mean(bootstrap_sample)\n",
        "}"
      ],
      "metadata": {
        "id": "SRb5Z9gWkfkb"
      },
      "execution_count": null,
      "outputs": []
    },
    {
      "cell_type": "markdown",
      "source": [
        "Confidence Intervals"
      ],
      "metadata": {
        "id": "UJCx469LmdY6"
      }
    },
    {
      "cell_type": "code",
      "source": [
        "lower <- quantile(bootstrap_means, probs = 0.025)\n",
        "upper <- quantile(bootstrap_means, probs = 0.975)"
      ],
      "metadata": {
        "id": "aOh-Xy2YkxZ1"
      },
      "execution_count": null,
      "outputs": []
    },
    {
      "cell_type": "markdown",
      "source": [
        "Print the result"
      ],
      "metadata": {
        "id": "Gul2xMacmmqZ"
      }
    },
    {
      "cell_type": "code",
      "source": [
        "cat(\"Bootstrap 95% Confidence Interval for the Mean:\", lower, \"to\", upper, \"\\n\")"
      ],
      "metadata": {
        "colab": {
          "base_uri": "https://localhost:8080/"
        },
        "id": "spoapKMck4av",
        "outputId": "8e4c676a-486f-41c6-c47b-90e5cc001158"
      },
      "execution_count": null,
      "outputs": [
        {
          "output_type": "stream",
          "name": "stdout",
          "text": [
            "Bootstrap 95% Confidence Interval for the Mean: 6.4 to 10.2 \n"
          ]
        }
      ]
    }
  ]
}