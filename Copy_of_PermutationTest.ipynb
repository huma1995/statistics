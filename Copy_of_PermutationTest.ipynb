{
  "nbformat": 4,
  "nbformat_minor": 0,
  "metadata": {
    "colab": {
      "provenance": [],
      "authorship_tag": "ABX9TyM/WAXNv2+E1FCLlZff+q+w",
      "include_colab_link": true
    },
    "kernelspec": {
      "name": "ir",
      "display_name": "R"
    },
    "language_info": {
      "name": "R"
    }
  },
  "cells": [
    {
      "cell_type": "markdown",
      "metadata": {
        "id": "view-in-github",
        "colab_type": "text"
      },
      "source": [
        "<a href=\"https://colab.research.google.com/github/huma1995/statistics/blob/main/Copy_of_PermutationTest.ipynb\" target=\"_parent\"><img src=\"https://colab.research.google.com/assets/colab-badge.svg\" alt=\"Open In Colab\"/></a>"
      ]
    },
    {
      "cell_type": "code",
      "execution_count": null,
      "metadata": {
        "id": "88HNrScNnYin"
      },
      "outputs": [],
      "source": [
        "group1 <- c(5,7,8)\n",
        "group2 <- c(6,9,10)\n",
        "observed_diff <- mean(group1) - mean(group2)"
      ]
    },
    {
      "cell_type": "markdown",
      "source": [
        "combine the data"
      ],
      "metadata": {
        "id": "RBcQmzIAnvdO"
      }
    },
    {
      "cell_type": "code",
      "source": [
        "combined <- c(group1, group2)\n",
        "n <- length(group1)"
      ],
      "metadata": {
        "id": "LDq10sTsnwm3"
      },
      "execution_count": null,
      "outputs": []
    },
    {
      "cell_type": "markdown",
      "source": [
        "permutation test"
      ],
      "metadata": {
        "id": "eWSfWfjJn5kX"
      }
    },
    {
      "cell_type": "code",
      "source": [
        "n_permutations <- 1000\n",
        "permuted_diffs <- numeric(n_permutations)"
      ],
      "metadata": {
        "id": "ctPSJRFin7zz"
      },
      "execution_count": null,
      "outputs": []
    },
    {
      "cell_type": "code",
      "source": [
        "set.seed(42)\n",
        "for (i in 1:n_permutations) {\n",
        "    permuted <- sample(combined)\n",
        "   permuted_diffs[i] <- mean(permuted[1:n]) - mean(permuted[(n+1):length(permuted)])\n",
        "}"
      ],
      "metadata": {
        "id": "waN2PUh7oEZi"
      },
      "execution_count": null,
      "outputs": []
    },
    {
      "cell_type": "markdown",
      "source": [
        "calculate the p value"
      ],
      "metadata": {
        "id": "nlQWfJVvoSrV"
      }
    },
    {
      "cell_type": "code",
      "source": [
        "p_value <- mean(abs(permuted_diffs) >= abs(observed_diff))"
      ],
      "metadata": {
        "id": "LxiqMIteoWez"
      },
      "execution_count": null,
      "outputs": []
    },
    {
      "cell_type": "markdown",
      "source": [
        "output results"
      ],
      "metadata": {
        "id": "7tDeTFiSocQc"
      }
    },
    {
      "cell_type": "code",
      "source": [
        "cat(\"Observed difference:\", observed_diff, \"\\n\")\n",
        "cat(\"p-value:\", p_value, \"\\n\")"
      ],
      "metadata": {
        "colab": {
          "base_uri": "https://localhost:8080/"
        },
        "id": "Aza3Y1Iood3N",
        "outputId": "24900c96-aabf-4ff3-87c7-fae58cb5e724"
      },
      "execution_count": null,
      "outputs": [
        {
          "output_type": "stream",
          "name": "stdout",
          "text": [
            "Observed difference: -1.666667 \n",
            "p-value: 0.397 \n"
          ]
        }
      ]
    },
    {
      "cell_type": "markdown",
      "source": [
        "this shows group 1 and 2 not significantly different. we have calculated the difference."
      ],
      "metadata": {
        "id": "vea7oX-xo7sk"
      }
    }
  ]
}