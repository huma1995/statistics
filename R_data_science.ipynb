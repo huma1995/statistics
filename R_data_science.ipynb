{
  "nbformat": 4,
  "nbformat_minor": 0,
  "metadata": {
    "colab": {
      "provenance": [],
      "include_colab_link": true
    },
    "kernelspec": {
      "name": "ir",
      "display_name": "R"
    },
    "language_info": {
      "name": "R"
    }
  },
  "cells": [
    {
      "cell_type": "markdown",
      "metadata": {
        "id": "view-in-github",
        "colab_type": "text"
      },
      "source": [
        "<a href=\"https://colab.research.google.com/github/huma1995/statistics/blob/main/R_data_science.ipynb\" target=\"_parent\"><img src=\"https://colab.research.google.com/assets/colab-badge.svg\" alt=\"Open In Colab\"/></a>"
      ]
    },
    {
      "cell_type": "markdown",
      "source": [
        "**Some basics of R** with comparison to Python\n",
        "First, go to Runtime > Change runtime type and set the Runtime type to R"
      ],
      "metadata": {
        "id": "HBNtyFUz69zz"
      }
    },
    {
      "cell_type": "code",
      "execution_count": null,
      "metadata": {
        "id": "Y4UwkLVTr1AH",
        "outputId": "84c92157-463b-4315-a4c4-631f52ca5dc1",
        "colab": {
          "base_uri": "https://localhost:8080/",
          "height": 52
        }
      },
      "outputs": [
        {
          "output_type": "display_data",
          "data": {
            "text/html": [
              "10"
            ],
            "text/markdown": "10",
            "text/latex": "10",
            "text/plain": [
              "[1] 10"
            ]
          },
          "metadata": {}
        },
        {
          "output_type": "display_data",
          "data": {
            "text/html": [
              "3"
            ],
            "text/markdown": "3",
            "text/latex": "3",
            "text/plain": [
              "[1] 3"
            ]
          },
          "metadata": {}
        }
      ],
      "source": [
        "#Convention is to use <- or -> for assignment, not = though it will still work\n",
        "cars <- 10\n",
        "3 -> houses\n",
        "cars\n",
        "houses"
      ]
    },
    {
      "cell_type": "code",
      "source": [
        "#Use the paste() function to concatenate strings\n",
        "str1 <- 'Hello'\n",
        "str2 <- 'world'\n",
        "paste (str1, str2)"
      ],
      "metadata": {
        "id": "wN-sebMZxlp-",
        "outputId": "13b1a191-a2d8-48d3-84a5-ecd5b46dd0ba",
        "colab": {
          "base_uri": "https://localhost:8080/",
          "height": 34
        }
      },
      "execution_count": null,
      "outputs": [
        {
          "output_type": "display_data",
          "data": {
            "text/html": [
              "'Hello world'"
            ],
            "text/markdown": "'Hello world'",
            "text/latex": "'Hello world'",
            "text/plain": [
              "[1] \"Hello world\""
            ]
          },
          "metadata": {}
        }
      ]
    },
    {
      "cell_type": "code",
      "source": [
        "#basic types include character (string), numeric, integer, logical\n",
        "num1 <- 10\n",
        "num2 <- 0.123\n",
        "name <- 'John'\n",
        "class(num1)\n",
        "class(num2)\n",
        "class(name)"
      ],
      "metadata": {
        "id": "bC1Jl88J82LA",
        "outputId": "7f81a8d7-5b07-415e-bc39-516cff928d37",
        "colab": {
          "base_uri": "https://localhost:8080/",
          "height": 69
        }
      },
      "execution_count": null,
      "outputs": [
        {
          "output_type": "display_data",
          "data": {
            "text/html": [
              "'numeric'"
            ],
            "text/markdown": "'numeric'",
            "text/latex": "'numeric'",
            "text/plain": [
              "[1] \"numeric\""
            ]
          },
          "metadata": {}
        },
        {
          "output_type": "display_data",
          "data": {
            "text/html": [
              "'numeric'"
            ],
            "text/markdown": "'numeric'",
            "text/latex": "'numeric'",
            "text/plain": [
              "[1] \"numeric\""
            ]
          },
          "metadata": {}
        },
        {
          "output_type": "display_data",
          "data": {
            "text/html": [
              "'character'"
            ],
            "text/markdown": "'character'",
            "text/latex": "'character'",
            "text/plain": [
              "[1] \"character\""
            ]
          },
          "metadata": {}
        }
      ]
    },
    {
      "cell_type": "code",
      "source": [
        "#use L for integers\n",
        "int1 <- 2L\n",
        "int1\n",
        "class(int1)"
      ],
      "metadata": {
        "id": "UYz0zZXF9iXf",
        "outputId": "6047f57d-03a7-4758-da21-29e7c5648453",
        "colab": {
          "base_uri": "https://localhost:8080/",
          "height": 52
        }
      },
      "execution_count": null,
      "outputs": [
        {
          "output_type": "display_data",
          "data": {
            "text/html": [
              "2"
            ],
            "text/markdown": "2",
            "text/latex": "2",
            "text/plain": [
              "[1] 2"
            ]
          },
          "metadata": {}
        },
        {
          "output_type": "display_data",
          "data": {
            "text/html": [
              "'integer'"
            ],
            "text/markdown": "'integer'",
            "text/latex": "'integer'",
            "text/plain": [
              "[1] \"integer\""
            ]
          },
          "metadata": {}
        }
      ]
    },
    {
      "cell_type": "code",
      "source": [
        "#logical == boolean\n",
        "bool1 <- FALSE\n",
        "bool1\n",
        "class(bool1)"
      ],
      "metadata": {
        "id": "V2OMBs4-vhbI",
        "outputId": "9a12c90a-70aa-49e3-cce5-aa2fea1fd8a7",
        "colab": {
          "base_uri": "https://localhost:8080/",
          "height": 52
        }
      },
      "execution_count": null,
      "outputs": [
        {
          "output_type": "display_data",
          "data": {
            "text/html": [
              "FALSE"
            ],
            "text/markdown": "FALSE",
            "text/latex": "FALSE",
            "text/plain": [
              "[1] FALSE"
            ]
          },
          "metadata": {}
        },
        {
          "output_type": "display_data",
          "data": {
            "text/html": [
              "'logical'"
            ],
            "text/markdown": "'logical'",
            "text/latex": "'logical'",
            "text/plain": [
              "[1] \"logical\""
            ]
          },
          "metadata": {}
        }
      ]
    },
    {
      "cell_type": "code",
      "source": [
        "10 > 5"
      ],
      "metadata": {
        "id": "4FsOb3xz-qQ6",
        "outputId": "907aea6f-8c63-4ea0-c8dd-19d661439a29",
        "colab": {
          "base_uri": "https://localhost:8080/",
          "height": 34
        }
      },
      "execution_count": null,
      "outputs": [
        {
          "output_type": "display_data",
          "data": {
            "text/html": [
              "TRUE"
            ],
            "text/markdown": "TRUE",
            "text/latex": "TRUE",
            "text/plain": [
              "[1] TRUE"
            ]
          },
          "metadata": {}
        }
      ]
    },
    {
      "cell_type": "code",
      "source": [
        "#if...else statements very similar to Python\n",
        "a <- 200\n",
        "b <- 33\n",
        "\n",
        "if (b > a) {\n",
        "  print(\"b is greater than a\")\n",
        "} else if (a == b) {\n",
        "  print(\"a and b are equal\")\n",
        "} else {\n",
        "  print(\"a is greater than b\")\n",
        "}"
      ],
      "metadata": {
        "id": "qsmRoVha_azf",
        "outputId": "bbcea8a6-3513-4c15-de70-ebdd3fb4f17d",
        "colab": {
          "base_uri": "https://localhost:8080/"
        }
      },
      "execution_count": null,
      "outputs": [
        {
          "output_type": "stream",
          "name": "stdout",
          "text": [
            "[1] \"a is greater than b\"\n"
          ]
        }
      ]
    },
    {
      "cell_type": "code",
      "source": [
        "#for loops and range generation also similar\n",
        "for (x in 1:10) {\n",
        "  print(x)\n",
        "}"
      ],
      "metadata": {
        "id": "PEJM25lFxeUw",
        "outputId": "a3dfb2bb-9175-46be-b7d9-ae41f583a8b7",
        "colab": {
          "base_uri": "https://localhost:8080/"
        }
      },
      "execution_count": null,
      "outputs": [
        {
          "output_type": "stream",
          "name": "stdout",
          "text": [
            "[1] 1\n",
            "[1] 2\n",
            "[1] 3\n",
            "[1] 4\n",
            "[1] 5\n",
            "[1] 6\n",
            "[1] 7\n",
            "[1] 8\n",
            "[1] 9\n",
            "[1] 10\n"
          ]
        }
      ]
    },
    {
      "cell_type": "code",
      "source": [
        "x <- 1:10\n",
        "print(x)"
      ],
      "metadata": {
        "id": "lSQeexwucepE",
        "outputId": "5296200d-2d1b-48ee-e3f9-0d2170626faf",
        "colab": {
          "base_uri": "https://localhost:8080/"
        }
      },
      "execution_count": null,
      "outputs": [
        {
          "output_type": "stream",
          "name": "stdout",
          "text": [
            " [1]  1  2  3  4  5  6  7  8  9 10\n"
          ]
        }
      ]
    },
    {
      "cell_type": "markdown",
      "source": [
        "Functions"
      ],
      "metadata": {
        "id": "8SFAmkvRCl0b"
      }
    },
    {
      "cell_type": "code",
      "source": [
        "#use function() to create a function. Include parameters in the ()\n",
        "my_func <- function(fname){\n",
        "  return (paste (\"Hello\", fname))\n",
        "}\n",
        "\n",
        "print(my_func ('Dave'))"
      ],
      "metadata": {
        "id": "rYa2Ycfmd3I4",
        "outputId": "a435d9f5-8300-490d-ae36-cfd7fbe89679",
        "colab": {
          "base_uri": "https://localhost:8080/"
        }
      },
      "execution_count": null,
      "outputs": [
        {
          "output_type": "stream",
          "name": "stdout",
          "text": [
            "[1] \"Hello Dave\"\n"
          ]
        }
      ]
    },
    {
      "cell_type": "markdown",
      "source": [
        "Data structures"
      ],
      "metadata": {
        "id": "hfKylwVhAD5I"
      }
    },
    {
      "cell_type": "code",
      "source": [
        "#a Vector is a collection of the same data type. They are mutable and indexed\n",
        "vec1 <- c(13, 3, 5, 7, 20, 2) #use c() to create a vector from a list of values\n",
        "vec2 <- 1.5:10.5 #or use a range statement to create a sequence\n",
        "\n",
        "vec1\n",
        "vec2"
      ],
      "metadata": {
        "id": "xJQVGYi5AGeA",
        "outputId": "5b1dcbac-99c8-4c52-f146-86df3eb571d3",
        "colab": {
          "base_uri": "https://localhost:8080/",
          "height": 52
        }
      },
      "execution_count": null,
      "outputs": [
        {
          "output_type": "display_data",
          "data": {
            "text/html": [
              "<style>\n",
              ".list-inline {list-style: none; margin:0; padding: 0}\n",
              ".list-inline>li {display: inline-block}\n",
              ".list-inline>li:not(:last-child)::after {content: \"\\00b7\"; padding: 0 .5ex}\n",
              "</style>\n",
              "<ol class=list-inline><li>13</li><li>3</li><li>5</li><li>7</li><li>20</li><li>2</li></ol>\n"
            ],
            "text/markdown": "1. 13\n2. 3\n3. 5\n4. 7\n5. 20\n6. 2\n\n\n",
            "text/latex": "\\begin{enumerate*}\n\\item 13\n\\item 3\n\\item 5\n\\item 7\n\\item 20\n\\item 2\n\\end{enumerate*}\n",
            "text/plain": [
              "[1] 13  3  5  7 20  2"
            ]
          },
          "metadata": {}
        },
        {
          "output_type": "display_data",
          "data": {
            "text/html": [
              "<style>\n",
              ".list-inline {list-style: none; margin:0; padding: 0}\n",
              ".list-inline>li {display: inline-block}\n",
              ".list-inline>li:not(:last-child)::after {content: \"\\00b7\"; padding: 0 .5ex}\n",
              "</style>\n",
              "<ol class=list-inline><li>1.5</li><li>2.5</li><li>3.5</li><li>4.5</li><li>5.5</li><li>6.5</li><li>7.5</li><li>8.5</li><li>9.5</li><li>10.5</li></ol>\n"
            ],
            "text/markdown": "1. 1.5\n2. 2.5\n3. 3.5\n4. 4.5\n5. 5.5\n6. 6.5\n7. 7.5\n8. 8.5\n9. 9.5\n10. 10.5\n\n\n",
            "text/latex": "\\begin{enumerate*}\n\\item 1.5\n\\item 2.5\n\\item 3.5\n\\item 4.5\n\\item 5.5\n\\item 6.5\n\\item 7.5\n\\item 8.5\n\\item 9.5\n\\item 10.5\n\\end{enumerate*}\n",
            "text/plain": [
              " [1]  1.5  2.5  3.5  4.5  5.5  6.5  7.5  8.5  9.5 10.5"
            ]
          },
          "metadata": {}
        }
      ]
    },
    {
      "cell_type": "code",
      "source": [
        "#access using indices (index starts at 1)\n",
        "vec2[2]\n",
        "vec1[c(3,5)]"
      ],
      "metadata": {
        "id": "btyaa7iLA7TJ",
        "outputId": "4ea71185-7b3d-4dd8-e428-5c5fcd869c97",
        "colab": {
          "base_uri": "https://localhost:8080/",
          "height": 52
        }
      },
      "execution_count": null,
      "outputs": [
        {
          "output_type": "display_data",
          "data": {
            "text/html": [
              "2.5"
            ],
            "text/markdown": "2.5",
            "text/latex": "2.5",
            "text/plain": [
              "[1] 2.5"
            ]
          },
          "metadata": {}
        },
        {
          "output_type": "display_data",
          "data": {
            "text/html": [
              "<style>\n",
              ".list-inline {list-style: none; margin:0; padding: 0}\n",
              ".list-inline>li {display: inline-block}\n",
              ".list-inline>li:not(:last-child)::after {content: \"\\00b7\"; padding: 0 .5ex}\n",
              "</style>\n",
              "<ol class=list-inline><li>5</li><li>20</li></ol>\n"
            ],
            "text/markdown": "1. 5\n2. 20\n\n\n",
            "text/latex": "\\begin{enumerate*}\n\\item 5\n\\item 20\n\\end{enumerate*}\n",
            "text/plain": [
              "[1]  5 20"
            ]
          },
          "metadata": {}
        }
      ]
    },
    {
      "cell_type": "code",
      "source": [
        "# a List is a collection that can have different data types, is mutable and indexed\n",
        "my_list <- list(12, 'hat', TRUE, 'S', 2.023)\n",
        "my_list\n",
        "my_list[5]"
      ],
      "metadata": {
        "id": "KZReb7qSBk0j",
        "outputId": "dff6be76-a775-4f23-833b-472c1c6a6d62",
        "colab": {
          "base_uri": "https://localhost:8080/",
          "height": 163
        }
      },
      "execution_count": null,
      "outputs": [
        {
          "output_type": "display_data",
          "data": {
            "text/html": [
              "<ol>\n",
              "\t<li>12</li>\n",
              "\t<li>'hat'</li>\n",
              "\t<li>TRUE</li>\n",
              "\t<li>'S'</li>\n",
              "\t<li>2.023</li>\n",
              "</ol>\n"
            ],
            "text/markdown": "1. 12\n2. 'hat'\n3. TRUE\n4. 'S'\n5. 2.023\n\n\n",
            "text/latex": "\\begin{enumerate}\n\\item 12\n\\item 'hat'\n\\item TRUE\n\\item 'S'\n\\item 2.023\n\\end{enumerate}\n",
            "text/plain": [
              "[[1]]\n",
              "[1] 12\n",
              "\n",
              "[[2]]\n",
              "[1] \"hat\"\n",
              "\n",
              "[[3]]\n",
              "[1] TRUE\n",
              "\n",
              "[[4]]\n",
              "[1] \"S\"\n",
              "\n",
              "[[5]]\n",
              "[1] 2.023\n"
            ]
          },
          "metadata": {}
        },
        {
          "output_type": "display_data",
          "data": {
            "text/html": [
              "<ol>\n",
              "\t<li>2.023</li>\n",
              "</ol>\n"
            ],
            "text/markdown": "1. 2.023\n\n\n",
            "text/latex": "\\begin{enumerate}\n\\item 2.023\n\\end{enumerate}\n",
            "text/plain": [
              "[[1]]\n",
              "[1] 2.023\n"
            ]
          },
          "metadata": {}
        }
      ]
    },
    {
      "cell_type": "code",
      "source": [
        "#check for item presence using %in%\n",
        "'hat' %in% my_list"
      ],
      "metadata": {
        "id": "4OSvP5JTclop",
        "outputId": "5d6bc4e1-e1df-4f0a-af70-bea950c57d98",
        "colab": {
          "base_uri": "https://localhost:8080/",
          "height": 34
        }
      },
      "execution_count": null,
      "outputs": [
        {
          "output_type": "display_data",
          "data": {
            "text/html": [
              "TRUE"
            ],
            "text/markdown": "TRUE",
            "text/latex": "TRUE",
            "text/plain": [
              "[1] TRUE"
            ]
          },
          "metadata": {}
        }
      ]
    },
    {
      "cell_type": "code",
      "source": [
        "#a Matrix is two dimensional data set with rows and columns. They are mutable and indexed and can contain different data types\n",
        "my_matrix <- matrix(c(1,2,3,'house',5,6), nrow = 3, ncol = 2)\n",
        "my_matrix"
      ],
      "metadata": {
        "id": "wTDISmrkj-B3",
        "outputId": "4d9b2f74-d6be-4333-8828-5267552a9362",
        "colab": {
          "base_uri": "https://localhost:8080/",
          "height": 163
        }
      },
      "execution_count": null,
      "outputs": [
        {
          "output_type": "display_data",
          "data": {
            "text/html": [
              "<table class=\"dataframe\">\n",
              "<caption>A matrix: 3 × 2 of type chr</caption>\n",
              "<tbody>\n",
              "\t<tr><td>1</td><td>house</td></tr>\n",
              "\t<tr><td>2</td><td>5    </td></tr>\n",
              "\t<tr><td>3</td><td>6    </td></tr>\n",
              "</tbody>\n",
              "</table>\n"
            ],
            "text/markdown": "\nA matrix: 3 × 2 of type chr\n\n| 1 | house |\n| 2 | 5     |\n| 3 | 6     |\n\n",
            "text/latex": "A matrix: 3 × 2 of type chr\n\\begin{tabular}{ll}\n\t 1 & house\\\\\n\t 2 & 5    \\\\\n\t 3 & 6    \\\\\n\\end{tabular}\n",
            "text/plain": [
              "     [,1] [,2] \n",
              "[1,] 1    house\n",
              "[2,] 2    5    \n",
              "[3,] 3    6    "
            ]
          },
          "metadata": {}
        }
      ]
    },
    {
      "cell_type": "code",
      "source": [
        "length(my_matrix)"
      ],
      "metadata": {
        "id": "0d1LMDiJlA65",
        "outputId": "3ba8f4f8-eb67-454e-caf7-ca47afc854a6",
        "colab": {
          "base_uri": "https://localhost:8080/",
          "height": 34
        }
      },
      "execution_count": null,
      "outputs": [
        {
          "output_type": "display_data",
          "data": {
            "text/html": [
              "6"
            ],
            "text/markdown": "6",
            "text/latex": "6",
            "text/plain": [
              "[1] 6"
            ]
          },
          "metadata": {}
        }
      ]
    },
    {
      "cell_type": "code",
      "source": [
        "#access using indices (row,col)\n",
        "my_matrix[1,2]"
      ],
      "metadata": {
        "id": "oKtmKvvJD1nB",
        "outputId": "0a2b4cc5-8d70-4088-8e46-378786c6e4e7",
        "colab": {
          "base_uri": "https://localhost:8080/",
          "height": 34
        }
      },
      "execution_count": null,
      "outputs": [
        {
          "output_type": "display_data",
          "data": {
            "text/html": [
              "'house'"
            ],
            "text/markdown": "'house'",
            "text/latex": "'house'",
            "text/plain": [
              "[1] \"house\""
            ]
          },
          "metadata": {}
        }
      ]
    },
    {
      "cell_type": "code",
      "source": [
        "#Arrays can have more than two dimensions and multiple data types. They are indexed and mutable\n",
        "my_data <- c(1:24)\n",
        "multi_array <- array(my_data, dim = c(4,3,2))  #use the dim parameter to set rows, cols, dimensions"
      ],
      "metadata": {
        "id": "DKy6wTAzlZbr"
      },
      "execution_count": null,
      "outputs": []
    },
    {
      "cell_type": "code",
      "source": [
        "multi_array"
      ],
      "metadata": {
        "id": "vr5p_qkKmKpI",
        "outputId": "17d9c2f5-cd39-4d00-9d89-deb9963e2461",
        "colab": {
          "base_uri": "https://localhost:8080/",
          "height": 34
        }
      },
      "execution_count": null,
      "outputs": [
        {
          "output_type": "display_data",
          "data": {
            "text/html": [
              "<style>\n",
              ".list-inline {list-style: none; margin:0; padding: 0}\n",
              ".list-inline>li {display: inline-block}\n",
              ".list-inline>li:not(:last-child)::after {content: \"\\00b7\"; padding: 0 .5ex}\n",
              "</style>\n",
              "<ol class=list-inline><li>1</li><li>2</li><li>3</li><li>4</li><li>5</li><li>6</li><li>7</li><li>8</li><li>9</li><li>10</li><li>11</li><li>12</li><li>13</li><li>14</li><li>15</li><li>16</li><li>17</li><li>18</li><li>19</li><li>20</li><li>21</li><li>22</li><li>23</li><li>24</li></ol>\n"
            ],
            "text/markdown": "1. 1\n2. 2\n3. 3\n4. 4\n5. 5\n6. 6\n7. 7\n8. 8\n9. 9\n10. 10\n11. 11\n12. 12\n13. 13\n14. 14\n15. 15\n16. 16\n17. 17\n18. 18\n19. 19\n20. 20\n21. 21\n22. 22\n23. 23\n24. 24\n\n\n",
            "text/latex": "\\begin{enumerate*}\n\\item 1\n\\item 2\n\\item 3\n\\item 4\n\\item 5\n\\item 6\n\\item 7\n\\item 8\n\\item 9\n\\item 10\n\\item 11\n\\item 12\n\\item 13\n\\item 14\n\\item 15\n\\item 16\n\\item 17\n\\item 18\n\\item 19\n\\item 20\n\\item 21\n\\item 22\n\\item 23\n\\item 24\n\\end{enumerate*}\n",
            "text/plain": [
              ", , 1\n",
              "\n",
              "     [,1] [,2] [,3]\n",
              "[1,]    1    5    9\n",
              "[2,]    2    6   10\n",
              "[3,]    3    7   11\n",
              "[4,]    4    8   12\n",
              "\n",
              ", , 2\n",
              "\n",
              "     [,1] [,2] [,3]\n",
              "[1,]   13   17   21\n",
              "[2,]   14   18   22\n",
              "[3,]   15   19   23\n",
              "[4,]   16   20   24\n"
            ]
          },
          "metadata": {}
        }
      ]
    },
    {
      "cell_type": "code",
      "source": [
        "multi_array[,,1]\n",
        "multi_array[,,2]"
      ],
      "metadata": {
        "id": "vSMzce4EmO3b",
        "outputId": "0dcadf7e-844e-4f04-a79c-cb292a39edd7",
        "colab": {
          "base_uri": "https://localhost:8080/",
          "height": 354
        }
      },
      "execution_count": null,
      "outputs": [
        {
          "output_type": "display_data",
          "data": {
            "text/html": [
              "<table class=\"dataframe\">\n",
              "<caption>A matrix: 4 × 3 of type int</caption>\n",
              "<tbody>\n",
              "\t<tr><td>1</td><td>5</td><td> 9</td></tr>\n",
              "\t<tr><td>2</td><td>6</td><td>10</td></tr>\n",
              "\t<tr><td>3</td><td>7</td><td>11</td></tr>\n",
              "\t<tr><td>4</td><td>8</td><td>12</td></tr>\n",
              "</tbody>\n",
              "</table>\n"
            ],
            "text/markdown": "\nA matrix: 4 × 3 of type int\n\n| 1 | 5 |  9 |\n| 2 | 6 | 10 |\n| 3 | 7 | 11 |\n| 4 | 8 | 12 |\n\n",
            "text/latex": "A matrix: 4 × 3 of type int\n\\begin{tabular}{lll}\n\t 1 & 5 &  9\\\\\n\t 2 & 6 & 10\\\\\n\t 3 & 7 & 11\\\\\n\t 4 & 8 & 12\\\\\n\\end{tabular}\n",
            "text/plain": [
              "     [,1] [,2] [,3]\n",
              "[1,] 1    5     9  \n",
              "[2,] 2    6    10  \n",
              "[3,] 3    7    11  \n",
              "[4,] 4    8    12  "
            ]
          },
          "metadata": {}
        },
        {
          "output_type": "display_data",
          "data": {
            "text/html": [
              "<table class=\"dataframe\">\n",
              "<caption>A matrix: 4 × 3 of type int</caption>\n",
              "<tbody>\n",
              "\t<tr><td>13</td><td>17</td><td>21</td></tr>\n",
              "\t<tr><td>14</td><td>18</td><td>22</td></tr>\n",
              "\t<tr><td>15</td><td>19</td><td>23</td></tr>\n",
              "\t<tr><td>16</td><td>20</td><td>24</td></tr>\n",
              "</tbody>\n",
              "</table>\n"
            ],
            "text/markdown": "\nA matrix: 4 × 3 of type int\n\n| 13 | 17 | 21 |\n| 14 | 18 | 22 |\n| 15 | 19 | 23 |\n| 16 | 20 | 24 |\n\n",
            "text/latex": "A matrix: 4 × 3 of type int\n\\begin{tabular}{lll}\n\t 13 & 17 & 21\\\\\n\t 14 & 18 & 22\\\\\n\t 15 & 19 & 23\\\\\n\t 16 & 20 & 24\\\\\n\\end{tabular}\n",
            "text/plain": [
              "     [,1] [,2] [,3]\n",
              "[1,] 13   17   21  \n",
              "[2,] 14   18   22  \n",
              "[3,] 15   19   23  \n",
              "[4,] 16   20   24  "
            ]
          },
          "metadata": {}
        }
      ]
    },
    {
      "cell_type": "code",
      "source": [
        "#Dataframes are tables which are indexed, mutable and can contain different data types\n",
        "#each column should have the same data type\n",
        "Data_Frame <- data.frame (\n",
        "  Training = c(\"Strength\", \"Stamina\", \"Other\"),\n",
        "  Pulse = c(100, 150, 120),\n",
        "  Duration = c(60, 30, 45)\n",
        ")"
      ],
      "metadata": {
        "id": "_rieT5tJmhyr"
      },
      "execution_count": null,
      "outputs": []
    },
    {
      "cell_type": "code",
      "source": [
        "Data_Frame"
      ],
      "metadata": {
        "id": "mUKmHUYWqJ61",
        "outputId": "47d1a335-d844-4d27-f185-caa9ecc82c60",
        "colab": {
          "base_uri": "https://localhost:8080/",
          "height": 192
        }
      },
      "execution_count": null,
      "outputs": [
        {
          "output_type": "display_data",
          "data": {
            "text/html": [
              "<table class=\"dataframe\">\n",
              "<caption>A data.frame: 3 × 3</caption>\n",
              "<thead>\n",
              "\t<tr><th scope=col>Training</th><th scope=col>Pulse</th><th scope=col>Duration</th></tr>\n",
              "\t<tr><th scope=col>&lt;chr&gt;</th><th scope=col>&lt;dbl&gt;</th><th scope=col>&lt;dbl&gt;</th></tr>\n",
              "</thead>\n",
              "<tbody>\n",
              "\t<tr><td>Strength</td><td>100</td><td>60</td></tr>\n",
              "\t<tr><td>Stamina </td><td>150</td><td>30</td></tr>\n",
              "\t<tr><td>Other   </td><td>120</td><td>45</td></tr>\n",
              "</tbody>\n",
              "</table>\n"
            ],
            "text/markdown": "\nA data.frame: 3 × 3\n\n| Training &lt;chr&gt; | Pulse &lt;dbl&gt; | Duration &lt;dbl&gt; |\n|---|---|---|\n| Strength | 100 | 60 |\n| Stamina  | 150 | 30 |\n| Other    | 120 | 45 |\n\n",
            "text/latex": "A data.frame: 3 × 3\n\\begin{tabular}{lll}\n Training & Pulse & Duration\\\\\n <chr> & <dbl> & <dbl>\\\\\n\\hline\n\t Strength & 100 & 60\\\\\n\t Stamina  & 150 & 30\\\\\n\t Other    & 120 & 45\\\\\n\\end{tabular}\n",
            "text/plain": [
              "  Training Pulse Duration\n",
              "1 Strength 100   60      \n",
              "2 Stamina  150   30      \n",
              "3 Other    120   45      "
            ]
          },
          "metadata": {}
        }
      ]
    },
    {
      "cell_type": "code",
      "source": [
        "#like pandas we can slice using labels or indices and apply functions\n",
        "Data_Frame['Training']"
      ],
      "metadata": {
        "id": "e2R8lJG-qNTR",
        "outputId": "151fe53c-eed2-4888-d114-593ba440428b",
        "colab": {
          "base_uri": "https://localhost:8080/",
          "height": 226
        }
      },
      "execution_count": null,
      "outputs": [
        {
          "output_type": "display_data",
          "data": {
            "text/html": [
              "<table class=\"dataframe\">\n",
              "<caption>A data.frame: 3 × 1</caption>\n",
              "<thead>\n",
              "\t<tr><th scope=col>Training</th></tr>\n",
              "\t<tr><th scope=col>&lt;chr&gt;</th></tr>\n",
              "</thead>\n",
              "<tbody>\n",
              "\t<tr><td>Strength</td></tr>\n",
              "\t<tr><td>Stamina </td></tr>\n",
              "\t<tr><td>Other   </td></tr>\n",
              "</tbody>\n",
              "</table>\n"
            ],
            "text/markdown": "\nA data.frame: 3 × 1\n\n| Training &lt;chr&gt; |\n|---|\n| Strength |\n| Stamina  |\n| Other    |\n\n",
            "text/latex": "A data.frame: 3 × 1\n\\begin{tabular}{l}\n Training\\\\\n <chr>\\\\\n\\hline\n\t Strength\\\\\n\t Stamina \\\\\n\t Other   \\\\\n\\end{tabular}\n",
            "text/plain": [
              "  Training\n",
              "1 Strength\n",
              "2 Stamina \n",
              "3 Other   "
            ]
          },
          "metadata": {}
        }
      ]
    },
    {
      "cell_type": "code",
      "source": [
        "summary(Data_Frame)"
      ],
      "metadata": {
        "id": "DsaroU4SRYd0",
        "outputId": "9a31f644-90cf-440c-89b5-4b7cba50a4aa",
        "colab": {
          "base_uri": "https://localhost:8080/",
          "height": 143
        }
      },
      "execution_count": null,
      "outputs": [
        {
          "output_type": "display_data",
          "data": {
            "text/plain": [
              "   Training             Pulse          Duration   \n",
              " Length:3           Min.   :100.0   Min.   :30.0  \n",
              " Class :character   1st Qu.:110.0   1st Qu.:37.5  \n",
              " Mode  :character   Median :120.0   Median :45.0  \n",
              "                    Mean   :123.3   Mean   :45.0  \n",
              "                    3rd Qu.:135.0   3rd Qu.:52.5  \n",
              "                    Max.   :150.0   Max.   :60.0  "
            ]
          },
          "metadata": {}
        }
      ]
    },
    {
      "cell_type": "code",
      "source": [
        "mean(Data_Frame$Pulse) #use $, [index] or [['labels']] to access columns"
      ],
      "metadata": {
        "id": "yhLSUgelTxqK",
        "outputId": "ce877303-7183-4507-e3ad-08540c35ef22",
        "colab": {
          "base_uri": "https://localhost:8080/",
          "height": 34
        }
      },
      "execution_count": null,
      "outputs": [
        {
          "output_type": "display_data",
          "data": {
            "text/html": [
              "123.333333333333"
            ],
            "text/markdown": "123.333333333333",
            "text/latex": "123.333333333333",
            "text/plain": [
              "[1] 123.3333"
            ]
          },
          "metadata": {}
        }
      ]
    },
    {
      "cell_type": "code",
      "source": [
        "#Mathematical functions can be applied in vectorised fashion\n",
        "Data_Frame['Pulse'] * 10"
      ],
      "metadata": {
        "id": "NGCDSv6rRkOs",
        "outputId": "55fb2fe4-215d-41c1-bd62-4ef995118a5e",
        "colab": {
          "base_uri": "https://localhost:8080/",
          "height": 226
        }
      },
      "execution_count": null,
      "outputs": [
        {
          "output_type": "display_data",
          "data": {
            "text/html": [
              "<table class=\"dataframe\">\n",
              "<caption>A data.frame: 3 × 1</caption>\n",
              "<thead>\n",
              "\t<tr><th scope=col>Pulse</th></tr>\n",
              "\t<tr><th scope=col>&lt;dbl&gt;</th></tr>\n",
              "</thead>\n",
              "<tbody>\n",
              "\t<tr><td>1000</td></tr>\n",
              "\t<tr><td>1500</td></tr>\n",
              "\t<tr><td>1200</td></tr>\n",
              "</tbody>\n",
              "</table>\n"
            ],
            "text/markdown": "\nA data.frame: 3 × 1\n\n| Pulse &lt;dbl&gt; |\n|---|\n| 1000 |\n| 1500 |\n| 1200 |\n\n",
            "text/latex": "A data.frame: 3 × 1\n\\begin{tabular}{l}\n Pulse\\\\\n <dbl>\\\\\n\\hline\n\t 1000\\\\\n\t 1500\\\\\n\t 1200\\\\\n\\end{tabular}\n",
            "text/plain": [
              "  Pulse\n",
              "1 1000 \n",
              "2 1500 \n",
              "3 1200 "
            ]
          },
          "metadata": {}
        }
      ]
    },
    {
      "cell_type": "code",
      "source": [
        "#Graphics - there are simple built in functions to generate plots, e.g.\n",
        "plot(1:10, type=\"l\", col=\"blue\")"
      ],
      "metadata": {
        "id": "lVlX_awtRyU_",
        "outputId": "b73e7966-90f6-4480-ee72-b0d370107ef8",
        "colab": {
          "base_uri": "https://localhost:8080/",
          "height": 437
        }
      },
      "execution_count": null,
      "outputs": [
        {
          "output_type": "display_data",
          "data": {
            "text/plain": [
              "plot without title"
            ],
            "image/png": "[encoded data removed]"
          },
          "metadata": {
            "image/png": {
              "width": 420,
              "height": 420
            }
          }
        }
      ]
    },
    {
      "cell_type": "markdown",
      "source": [
        "**Tidyverse** add a suite of packages that support data science in R. To add all of the packages use install.packages(\"tidyverse\")."
      ],
      "metadata": {
        "id": "29FRD0em4f99"
      }
    },
    {
      "cell_type": "code",
      "source": [
        "install.packages(\"tidyverse\")"
      ],
      "metadata": {
        "id": "olVBl7R9TMBC",
        "outputId": "269a4db5-c87a-4d57-daba-78171571eb1d",
        "colab": {
          "base_uri": "https://localhost:8080/"
        }
      },
      "execution_count": null,
      "outputs": [
        {
          "output_type": "stream",
          "name": "stderr",
          "text": [
            "Installing package into ‘/usr/local/lib/R/site-library’\n",
            "(as ‘lib’ is unspecified)\n",
            "\n"
          ]
        }
      ]
    },
    {
      "cell_type": "code",
      "source": [
        "#to use a library name it in a library statement - you can also use library(tidyverse) for all packages\n",
        "library(tibble)"
      ],
      "metadata": {
        "id": "igvejU_k4ZCP"
      },
      "execution_count": null,
      "outputs": []
    },
    {
      "cell_type": "code",
      "source": [
        "#tibble is a revised dataframe object which supports the tidyverse - many tidyverse packages will produce them or you can create them or convert dataframes\n",
        "#tibble data frames are more constrained than data frames, e.g. it doesnt change the types of input data or names of variables\n",
        "#on this course we will tend to use data frames\n",
        "new_frame <- as_tibble(Data_Frame)\n",
        "new_frame"
      ],
      "metadata": {
        "id": "rSdRrIoeStvG",
        "outputId": "99ff6ff6-f1ea-48d2-b3af-3a011216ddd4",
        "colab": {
          "base_uri": "https://localhost:8080/",
          "height": 192
        }
      },
      "execution_count": null,
      "outputs": [
        {
          "output_type": "display_data",
          "data": {
            "text/html": [
              "<table class=\"dataframe\">\n",
              "<caption>A tibble: 3 × 3</caption>\n",
              "<thead>\n",
              "\t<tr><th scope=col>Training</th><th scope=col>Pulse</th><th scope=col>Duration</th></tr>\n",
              "\t<tr><th scope=col>&lt;chr&gt;</th><th scope=col>&lt;dbl&gt;</th><th scope=col>&lt;dbl&gt;</th></tr>\n",
              "</thead>\n",
              "<tbody>\n",
              "\t<tr><td>Strength</td><td>100</td><td>60</td></tr>\n",
              "\t<tr><td>Stamina </td><td>150</td><td>30</td></tr>\n",
              "\t<tr><td>Other   </td><td>120</td><td>45</td></tr>\n",
              "</tbody>\n",
              "</table>\n"
            ],
            "text/markdown": "\nA tibble: 3 × 3\n\n| Training &lt;chr&gt; | Pulse &lt;dbl&gt; | Duration &lt;dbl&gt; |\n|---|---|---|\n| Strength | 100 | 60 |\n| Stamina  | 150 | 30 |\n| Other    | 120 | 45 |\n\n",
            "text/latex": "A tibble: 3 × 3\n\\begin{tabular}{lll}\n Training & Pulse & Duration\\\\\n <chr> & <dbl> & <dbl>\\\\\n\\hline\n\t Strength & 100 & 60\\\\\n\t Stamina  & 150 & 30\\\\\n\t Other    & 120 & 45\\\\\n\\end{tabular}\n",
            "text/plain": [
              "  Training Pulse Duration\n",
              "1 Strength 100   60      \n",
              "2 Stamina  150   30      \n",
              "3 Other    120   45      "
            ]
          },
          "metadata": {}
        }
      ]
    },
    {
      "cell_type": "markdown",
      "source": [
        "**Tidy** data is the basis of the tidyverse, other libraries depend on data being in this format. The principle is that:\n",
        "\n",
        "*   Each variable is a column; each column is a variable.\n",
        "\n",
        "*   Each observation is a row; each row is an observation.\n",
        "\n",
        "*   Each value is a cell; each cell is a single value.\n",
        "\n",
        "\n",
        "![tidy.png](data:image/png;base64,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)"
      ],
      "metadata": {
        "id": "441WLneT7ays"
      }
    },
    {
      "cell_type": "markdown",
      "source": [
        "**tidyr** package includes methods for manipulating tidy data, such as pivoting and reshaping tables. Use library(tidyr).\n",
        "Joining of tibbles like database tables is also possible"
      ],
      "metadata": {
        "id": "aYCaqqzy87-T"
      }
    },
    {
      "cell_type": "code",
      "source": [
        "#dplyr provides a set of methods for common manipulation tasks such as adding variables, selecting and filtering data, ordering and summarising\n",
        "library(dplyr)"
      ],
      "metadata": {
        "id": "eX5czVcq9V3m",
        "outputId": "a1d79a33-5e87-486c-d83d-8bc8f3cb2e7c",
        "colab": {
          "base_uri": "https://localhost:8080/"
        }
      },
      "execution_count": null,
      "outputs": [
        {
          "output_type": "stream",
          "name": "stderr",
          "text": [
            "\n",
            "Attaching package: ‘dplyr’\n",
            "\n",
            "\n",
            "The following objects are masked from ‘package:stats’:\n",
            "\n",
            "    filter, lag\n",
            "\n",
            "\n",
            "The following objects are masked from ‘package:base’:\n",
            "\n",
            "    intersect, setdiff, setequal, union\n",
            "\n",
            "\n"
          ]
        }
      ]
    },
    {
      "cell_type": "code",
      "source": [
        "#command(data, what to do with it). Commands/methods are also called verbs. The result is a new dataframe. Use surrounding () to print the result too\n",
        "(high_pulse <- filter(new_frame, Pulse >= 120))"
      ],
      "metadata": {
        "id": "K4PUYdYgUTpC",
        "outputId": "6d00a3be-13c1-4c27-e2ac-0e0555b6f4d6",
        "colab": {
          "base_uri": "https://localhost:8080/",
          "height": 160
        }
      },
      "execution_count": null,
      "outputs": [
        {
          "output_type": "display_data",
          "data": {
            "text/html": [
              "<table class=\"dataframe\">\n",
              "<caption>A tibble: 2 × 3</caption>\n",
              "<thead>\n",
              "\t<tr><th scope=col>Training</th><th scope=col>Pulse</th><th scope=col>Duration</th></tr>\n",
              "\t<tr><th scope=col>&lt;chr&gt;</th><th scope=col>&lt;dbl&gt;</th><th scope=col>&lt;dbl&gt;</th></tr>\n",
              "</thead>\n",
              "<tbody>\n",
              "\t<tr><td>Stamina</td><td>150</td><td>30</td></tr>\n",
              "\t<tr><td>Other  </td><td>120</td><td>45</td></tr>\n",
              "</tbody>\n",
              "</table>\n"
            ],
            "text/markdown": "\nA tibble: 2 × 3\n\n| Training &lt;chr&gt; | Pulse &lt;dbl&gt; | Duration &lt;dbl&gt; |\n|---|---|---|\n| Stamina | 150 | 30 |\n| Other   | 120 | 45 |\n\n",
            "text/latex": "A tibble: 2 × 3\n\\begin{tabular}{lll}\n Training & Pulse & Duration\\\\\n <chr> & <dbl> & <dbl>\\\\\n\\hline\n\t Stamina & 150 & 30\\\\\n\t Other   & 120 & 45\\\\\n\\end{tabular}\n",
            "text/plain": [
              "  Training Pulse Duration\n",
              "1 Stamina  150   30      \n",
              "2 Other    120   45      "
            ]
          },
          "metadata": {}
        }
      ]
    },
    {
      "cell_type": "markdown",
      "source": [
        "Other methods include mutate() to add new variables that are functions of existing variables, select variables, summarise data and arrange(sort) rows.\n",
        "\n",
        "Pipes are used to make code more understandable. Pipes are written as %>% and\n",
        " can be thought of as 'then'.\n",
        "\n",
        "x %>% f(y) means 'take data x THEN apply function y', so it becomes f(x,y). When a series of functions are used which take the outputs of one and pass it to the next, code can become hard to read, so piping makes it possible to read from left to right in a linear way."
      ],
      "metadata": {
        "id": "APs1HhNtgAMC"
      }
    },
    {
      "cell_type": "code",
      "source": [
        "filter (filter(new_frame, Pulse >= 120), Duration > 30)"
      ],
      "metadata": {
        "id": "mTiUxFZrgu6Z",
        "outputId": "322b8101-84bc-4ea8-857b-9a2f715ad438",
        "colab": {
          "base_uri": "https://localhost:8080/",
          "height": 129
        }
      },
      "execution_count": null,
      "outputs": [
        {
          "output_type": "display_data",
          "data": {
            "text/html": [
              "<table class=\"dataframe\">\n",
              "<caption>A tibble: 1 × 3</caption>\n",
              "<thead>\n",
              "\t<tr><th scope=col>Training</th><th scope=col>Pulse</th><th scope=col>Duration</th></tr>\n",
              "\t<tr><th scope=col>&lt;chr&gt;</th><th scope=col>&lt;dbl&gt;</th><th scope=col>&lt;dbl&gt;</th></tr>\n",
              "</thead>\n",
              "<tbody>\n",
              "\t<tr><td>Other</td><td>120</td><td>45</td></tr>\n",
              "</tbody>\n",
              "</table>\n"
            ],
            "text/markdown": "\nA tibble: 1 × 3\n\n| Training &lt;chr&gt; | Pulse &lt;dbl&gt; | Duration &lt;dbl&gt; |\n|---|---|---|\n| Other | 120 | 45 |\n\n",
            "text/latex": "A tibble: 1 × 3\n\\begin{tabular}{lll}\n Training & Pulse & Duration\\\\\n <chr> & <dbl> & <dbl>\\\\\n\\hline\n\t Other & 120 & 45\\\\\n\\end{tabular}\n",
            "text/plain": [
              "  Training Pulse Duration\n",
              "1 Other    120   45      "
            ]
          },
          "metadata": {}
        }
      ]
    },
    {
      "cell_type": "markdown",
      "source": [],
      "metadata": {
        "id": "cjccerpELQri"
      }
    },
    {
      "cell_type": "code",
      "source": [
        "new_frame %>% filter(Pulse >= 120) %>% filter(Duration > 30)"
      ],
      "metadata": {
        "id": "DIVP7nMzlD3Q",
        "outputId": "e473c082-6281-426b-a175-defea965040e",
        "colab": {
          "base_uri": "https://localhost:8080/",
          "height": 129
        }
      },
      "execution_count": null,
      "outputs": [
        {
          "output_type": "display_data",
          "data": {
            "text/html": [
              "<table class=\"dataframe\">\n",
              "<caption>A tibble: 1 × 3</caption>\n",
              "<thead>\n",
              "\t<tr><th scope=col>Training</th><th scope=col>Pulse</th><th scope=col>Duration</th></tr>\n",
              "\t<tr><th scope=col>&lt;chr&gt;</th><th scope=col>&lt;dbl&gt;</th><th scope=col>&lt;dbl&gt;</th></tr>\n",
              "</thead>\n",
              "<tbody>\n",
              "\t<tr><td>Other</td><td>120</td><td>45</td></tr>\n",
              "</tbody>\n",
              "</table>\n"
            ],
            "text/markdown": "\nA tibble: 1 × 3\n\n| Training &lt;chr&gt; | Pulse &lt;dbl&gt; | Duration &lt;dbl&gt; |\n|---|---|---|\n| Other | 120 | 45 |\n\n",
            "text/latex": "A tibble: 1 × 3\n\\begin{tabular}{lll}\n Training & Pulse & Duration\\\\\n <chr> & <dbl> & <dbl>\\\\\n\\hline\n\t Other & 120 & 45\\\\\n\\end{tabular}\n",
            "text/plain": [
              "  Training Pulse Duration\n",
              "1 Other    120   45      "
            ]
          },
          "metadata": {}
        }
      ]
    },
    {
      "cell_type": "markdown",
      "source": [
        "**ggplot2** is the graphics library"
      ],
      "metadata": {
        "id": "4G80BQxRkFpG"
      }
    },
    {
      "cell_type": "code",
      "source": [
        "library(ggplot2)"
      ],
      "metadata": {
        "id": "llU1823nkaq3"
      },
      "execution_count": null,
      "outputs": []
    },
    {
      "cell_type": "code",
      "source": [
        "mpg"
      ],
      "metadata": {
        "id": "BgZmj53nQ_r8",
        "outputId": "45384b45-ec41-4428-a3af-9d3cb53566e3",
        "colab": {
          "base_uri": "https://localhost:8080/",
          "height": 1000
        }
      },
      "execution_count": null,
      "outputs": [
        {
          "output_type": "display_data",
          "data": {
            "text/html": [
              "<table class=\"dataframe\">\n",
              "<caption>A tibble: 234 × 11</caption>\n",
              "<thead>\n",
              "\t<tr><th scope=col>manufacturer</th><th scope=col>model</th><th scope=col>displ</th><th scope=col>year</th><th scope=col>cyl</th><th scope=col>trans</th><th scope=col>drv</th><th scope=col>cty</th><th scope=col>hwy</th><th scope=col>fl</th><th scope=col>class</th></tr>\n",
              "\t<tr><th scope=col>&lt;chr&gt;</th><th scope=col>&lt;chr&gt;</th><th scope=col>&lt;dbl&gt;</th><th scope=col>&lt;int&gt;</th><th scope=col>&lt;int&gt;</th><th scope=col>&lt;chr&gt;</th><th scope=col>&lt;chr&gt;</th><th scope=col>&lt;int&gt;</th><th scope=col>&lt;int&gt;</th><th scope=col>&lt;chr&gt;</th><th scope=col>&lt;chr&gt;</th></tr>\n",
              "</thead>\n",
              "<tbody>\n",
              "\t<tr><td>audi     </td><td>a4                </td><td>1.8</td><td>1999</td><td>4</td><td>auto(l5)  </td><td>f</td><td>18</td><td>29</td><td>p</td><td>compact</td></tr>\n",
              "\t<tr><td>audi     </td><td>a4                </td><td>1.8</td><td>1999</td><td>4</td><td>manual(m5)</td><td>f</td><td>21</td><td>29</td><td>p</td><td>compact</td></tr>\n",
              "\t<tr><td>audi     </td><td>a4                </td><td>2.0</td><td>2008</td><td>4</td><td>manual(m6)</td><td>f</td><td>20</td><td>31</td><td>p</td><td>compact</td></tr>\n",
              "\t<tr><td>audi     </td><td>a4                </td><td>2.0</td><td>2008</td><td>4</td><td>auto(av)  </td><td>f</td><td>21</td><td>30</td><td>p</td><td>compact</td></tr>\n",
              "\t<tr><td>audi     </td><td>a4                </td><td>2.8</td><td>1999</td><td>6</td><td>auto(l5)  </td><td>f</td><td>16</td><td>26</td><td>p</td><td>compact</td></tr>\n",
              "\t<tr><td>audi     </td><td>a4                </td><td>2.8</td><td>1999</td><td>6</td><td>manual(m5)</td><td>f</td><td>18</td><td>26</td><td>p</td><td>compact</td></tr>\n",
              "\t<tr><td>audi     </td><td>a4                </td><td>3.1</td><td>2008</td><td>6</td><td>auto(av)  </td><td>f</td><td>18</td><td>27</td><td>p</td><td>compact</td></tr>\n",
              "\t<tr><td>audi     </td><td>a4 quattro        </td><td>1.8</td><td>1999</td><td>4</td><td>manual(m5)</td><td>4</td><td>18</td><td>26</td><td>p</td><td>compact</td></tr>\n",
              "\t<tr><td>audi     </td><td>a4 quattro        </td><td>1.8</td><td>1999</td><td>4</td><td>auto(l5)  </td><td>4</td><td>16</td><td>25</td><td>p</td><td>compact</td></tr>\n",
              "\t<tr><td>audi     </td><td>a4 quattro        </td><td>2.0</td><td>2008</td><td>4</td><td>manual(m6)</td><td>4</td><td>20</td><td>28</td><td>p</td><td>compact</td></tr>\n",
              "\t<tr><td>audi     </td><td>a4 quattro        </td><td>2.0</td><td>2008</td><td>4</td><td>auto(s6)  </td><td>4</td><td>19</td><td>27</td><td>p</td><td>compact</td></tr>\n",
              "\t<tr><td>audi     </td><td>a4 quattro        </td><td>2.8</td><td>1999</td><td>6</td><td>auto(l5)  </td><td>4</td><td>15</td><td>25</td><td>p</td><td>compact</td></tr>\n",
              "\t<tr><td>audi     </td><td>a4 quattro        </td><td>2.8</td><td>1999</td><td>6</td><td>manual(m5)</td><td>4</td><td>17</td><td>25</td><td>p</td><td>compact</td></tr>\n",
              "\t<tr><td>audi     </td><td>a4 quattro        </td><td>3.1</td><td>2008</td><td>6</td><td>auto(s6)  </td><td>4</td><td>17</td><td>25</td><td>p</td><td>compact</td></tr>\n",
              "\t<tr><td>audi     </td><td>a4 quattro        </td><td>3.1</td><td>2008</td><td>6</td><td>manual(m6)</td><td>4</td><td>15</td><td>25</td><td>p</td><td>compact</td></tr>\n",
              "\t<tr><td>audi     </td><td>a6 quattro        </td><td>2.8</td><td>1999</td><td>6</td><td>auto(l5)  </td><td>4</td><td>15</td><td>24</td><td>p</td><td>midsize</td></tr>\n",
              "\t<tr><td>audi     </td><td>a6 quattro        </td><td>3.1</td><td>2008</td><td>6</td><td>auto(s6)  </td><td>4</td><td>17</td><td>25</td><td>p</td><td>midsize</td></tr>\n",
              "\t<tr><td>audi     </td><td>a6 quattro        </td><td>4.2</td><td>2008</td><td>8</td><td>auto(s6)  </td><td>4</td><td>16</td><td>23</td><td>p</td><td>midsize</td></tr>\n",
              "\t<tr><td>chevrolet</td><td>c1500 suburban 2wd</td><td>5.3</td><td>2008</td><td>8</td><td>auto(l4)  </td><td>r</td><td>14</td><td>20</td><td>r</td><td>suv    </td></tr>\n",
              "\t<tr><td>chevrolet</td><td>c1500 suburban 2wd</td><td>5.3</td><td>2008</td><td>8</td><td>auto(l4)  </td><td>r</td><td>11</td><td>15</td><td>e</td><td>suv    </td></tr>\n",
              "\t<tr><td>chevrolet</td><td>c1500 suburban 2wd</td><td>5.3</td><td>2008</td><td>8</td><td>auto(l4)  </td><td>r</td><td>14</td><td>20</td><td>r</td><td>suv    </td></tr>\n",
              "\t<tr><td>chevrolet</td><td>c1500 suburban 2wd</td><td>5.7</td><td>1999</td><td>8</td><td>auto(l4)  </td><td>r</td><td>13</td><td>17</td><td>r</td><td>suv    </td></tr>\n",
              "\t<tr><td>chevrolet</td><td>c1500 suburban 2wd</td><td>6.0</td><td>2008</td><td>8</td><td>auto(l4)  </td><td>r</td><td>12</td><td>17</td><td>r</td><td>suv    </td></tr>\n",
              "\t<tr><td>chevrolet</td><td>corvette          </td><td>5.7</td><td>1999</td><td>8</td><td>manual(m6)</td><td>r</td><td>16</td><td>26</td><td>p</td><td>2seater</td></tr>\n",
              "\t<tr><td>chevrolet</td><td>corvette          </td><td>5.7</td><td>1999</td><td>8</td><td>auto(l4)  </td><td>r</td><td>15</td><td>23</td><td>p</td><td>2seater</td></tr>\n",
              "\t<tr><td>chevrolet</td><td>corvette          </td><td>6.2</td><td>2008</td><td>8</td><td>manual(m6)</td><td>r</td><td>16</td><td>26</td><td>p</td><td>2seater</td></tr>\n",
              "\t<tr><td>chevrolet</td><td>corvette          </td><td>6.2</td><td>2008</td><td>8</td><td>auto(s6)  </td><td>r</td><td>15</td><td>25</td><td>p</td><td>2seater</td></tr>\n",
              "\t<tr><td>chevrolet</td><td>corvette          </td><td>7.0</td><td>2008</td><td>8</td><td>manual(m6)</td><td>r</td><td>15</td><td>24</td><td>p</td><td>2seater</td></tr>\n",
              "\t<tr><td>chevrolet</td><td>k1500 tahoe 4wd   </td><td>5.3</td><td>2008</td><td>8</td><td>auto(l4)  </td><td>4</td><td>14</td><td>19</td><td>r</td><td>suv    </td></tr>\n",
              "\t<tr><td>chevrolet</td><td>k1500 tahoe 4wd   </td><td>5.3</td><td>2008</td><td>8</td><td>auto(l4)  </td><td>4</td><td>11</td><td>14</td><td>e</td><td>suv    </td></tr>\n",
              "\t<tr><td>⋮</td><td>⋮</td><td>⋮</td><td>⋮</td><td>⋮</td><td>⋮</td><td>⋮</td><td>⋮</td><td>⋮</td><td>⋮</td><td>⋮</td></tr>\n",
              "\t<tr><td>toyota    </td><td>toyota tacoma 4wd</td><td>3.4</td><td>1999</td><td>6</td><td>auto(l4)  </td><td>4</td><td>15</td><td>19</td><td>r</td><td>pickup    </td></tr>\n",
              "\t<tr><td>toyota    </td><td>toyota tacoma 4wd</td><td>4.0</td><td>2008</td><td>6</td><td>manual(m6)</td><td>4</td><td>15</td><td>18</td><td>r</td><td>pickup    </td></tr>\n",
              "\t<tr><td>toyota    </td><td>toyota tacoma 4wd</td><td>4.0</td><td>2008</td><td>6</td><td>auto(l5)  </td><td>4</td><td>16</td><td>20</td><td>r</td><td>pickup    </td></tr>\n",
              "\t<tr><td>volkswagen</td><td>gti              </td><td>2.0</td><td>1999</td><td>4</td><td>manual(m5)</td><td>f</td><td>21</td><td>29</td><td>r</td><td>compact   </td></tr>\n",
              "\t<tr><td>volkswagen</td><td>gti              </td><td>2.0</td><td>1999</td><td>4</td><td>auto(l4)  </td><td>f</td><td>19</td><td>26</td><td>r</td><td>compact   </td></tr>\n",
              "\t<tr><td>volkswagen</td><td>gti              </td><td>2.0</td><td>2008</td><td>4</td><td>manual(m6)</td><td>f</td><td>21</td><td>29</td><td>p</td><td>compact   </td></tr>\n",
              "\t<tr><td>volkswagen</td><td>gti              </td><td>2.0</td><td>2008</td><td>4</td><td>auto(s6)  </td><td>f</td><td>22</td><td>29</td><td>p</td><td>compact   </td></tr>\n",
              "\t<tr><td>volkswagen</td><td>gti              </td><td>2.8</td><td>1999</td><td>6</td><td>manual(m5)</td><td>f</td><td>17</td><td>24</td><td>r</td><td>compact   </td></tr>\n",
              "\t<tr><td>volkswagen</td><td>jetta            </td><td>1.9</td><td>1999</td><td>4</td><td>manual(m5)</td><td>f</td><td>33</td><td>44</td><td>d</td><td>compact   </td></tr>\n",
              "\t<tr><td>volkswagen</td><td>jetta            </td><td>2.0</td><td>1999</td><td>4</td><td>manual(m5)</td><td>f</td><td>21</td><td>29</td><td>r</td><td>compact   </td></tr>\n",
              "\t<tr><td>volkswagen</td><td>jetta            </td><td>2.0</td><td>1999</td><td>4</td><td>auto(l4)  </td><td>f</td><td>19</td><td>26</td><td>r</td><td>compact   </td></tr>\n",
              "\t<tr><td>volkswagen</td><td>jetta            </td><td>2.0</td><td>2008</td><td>4</td><td>auto(s6)  </td><td>f</td><td>22</td><td>29</td><td>p</td><td>compact   </td></tr>\n",
              "\t<tr><td>volkswagen</td><td>jetta            </td><td>2.0</td><td>2008</td><td>4</td><td>manual(m6)</td><td>f</td><td>21</td><td>29</td><td>p</td><td>compact   </td></tr>\n",
              "\t<tr><td>volkswagen</td><td>jetta            </td><td>2.5</td><td>2008</td><td>5</td><td>auto(s6)  </td><td>f</td><td>21</td><td>29</td><td>r</td><td>compact   </td></tr>\n",
              "\t<tr><td>volkswagen</td><td>jetta            </td><td>2.5</td><td>2008</td><td>5</td><td>manual(m5)</td><td>f</td><td>21</td><td>29</td><td>r</td><td>compact   </td></tr>\n",
              "\t<tr><td>volkswagen</td><td>jetta            </td><td>2.8</td><td>1999</td><td>6</td><td>auto(l4)  </td><td>f</td><td>16</td><td>23</td><td>r</td><td>compact   </td></tr>\n",
              "\t<tr><td>volkswagen</td><td>jetta            </td><td>2.8</td><td>1999</td><td>6</td><td>manual(m5)</td><td>f</td><td>17</td><td>24</td><td>r</td><td>compact   </td></tr>\n",
              "\t<tr><td>volkswagen</td><td>new beetle       </td><td>1.9</td><td>1999</td><td>4</td><td>manual(m5)</td><td>f</td><td>35</td><td>44</td><td>d</td><td>subcompact</td></tr>\n",
              "\t<tr><td>volkswagen</td><td>new beetle       </td><td>1.9</td><td>1999</td><td>4</td><td>auto(l4)  </td><td>f</td><td>29</td><td>41</td><td>d</td><td>subcompact</td></tr>\n",
              "\t<tr><td>volkswagen</td><td>new beetle       </td><td>2.0</td><td>1999</td><td>4</td><td>manual(m5)</td><td>f</td><td>21</td><td>29</td><td>r</td><td>subcompact</td></tr>\n",
              "\t<tr><td>volkswagen</td><td>new beetle       </td><td>2.0</td><td>1999</td><td>4</td><td>auto(l4)  </td><td>f</td><td>19</td><td>26</td><td>r</td><td>subcompact</td></tr>\n",
              "\t<tr><td>volkswagen</td><td>new beetle       </td><td>2.5</td><td>2008</td><td>5</td><td>manual(m5)</td><td>f</td><td>20</td><td>28</td><td>r</td><td>subcompact</td></tr>\n",
              "\t<tr><td>volkswagen</td><td>new beetle       </td><td>2.5</td><td>2008</td><td>5</td><td>auto(s6)  </td><td>f</td><td>20</td><td>29</td><td>r</td><td>subcompact</td></tr>\n",
              "\t<tr><td>volkswagen</td><td>passat           </td><td>1.8</td><td>1999</td><td>4</td><td>manual(m5)</td><td>f</td><td>21</td><td>29</td><td>p</td><td>midsize   </td></tr>\n",
              "\t<tr><td>volkswagen</td><td>passat           </td><td>1.8</td><td>1999</td><td>4</td><td>auto(l5)  </td><td>f</td><td>18</td><td>29</td><td>p</td><td>midsize   </td></tr>\n",
              "\t<tr><td>volkswagen</td><td>passat           </td><td>2.0</td><td>2008</td><td>4</td><td>auto(s6)  </td><td>f</td><td>19</td><td>28</td><td>p</td><td>midsize   </td></tr>\n",
              "\t<tr><td>volkswagen</td><td>passat           </td><td>2.0</td><td>2008</td><td>4</td><td>manual(m6)</td><td>f</td><td>21</td><td>29</td><td>p</td><td>midsize   </td></tr>\n",
              "\t<tr><td>volkswagen</td><td>passat           </td><td>2.8</td><td>1999</td><td>6</td><td>auto(l5)  </td><td>f</td><td>16</td><td>26</td><td>p</td><td>midsize   </td></tr>\n",
              "\t<tr><td>volkswagen</td><td>passat           </td><td>2.8</td><td>1999</td><td>6</td><td>manual(m5)</td><td>f</td><td>18</td><td>26</td><td>p</td><td>midsize   </td></tr>\n",
              "\t<tr><td>volkswagen</td><td>passat           </td><td>3.6</td><td>2008</td><td>6</td><td>auto(s6)  </td><td>f</td><td>17</td><td>26</td><td>p</td><td>midsize   </td></tr>\n",
              "</tbody>\n",
              "</table>\n"
            ],
            "text/markdown": "\nA tibble: 234 × 11\n\n| manufacturer &lt;chr&gt; | model &lt;chr&gt; | displ &lt;dbl&gt; | year &lt;int&gt; | cyl &lt;int&gt; | trans &lt;chr&gt; | drv &lt;chr&gt; | cty &lt;int&gt; | hwy &lt;int&gt; | fl &lt;chr&gt; | class &lt;chr&gt; |\n|---|---|---|---|---|---|---|---|---|---|---|\n| audi      | a4                 | 1.8 | 1999 | 4 | auto(l5)   | f | 18 | 29 | p | compact |\n| audi      | a4                 | 1.8 | 1999 | 4 | manual(m5) | f | 21 | 29 | p | compact |\n| audi      | a4                 | 2.0 | 2008 | 4 | manual(m6) | f | 20 | 31 | p | compact |\n| audi      | a4                 | 2.0 | 2008 | 4 | auto(av)   | f | 21 | 30 | p | compact |\n| audi      | a4                 | 2.8 | 1999 | 6 | auto(l5)   | f | 16 | 26 | p | compact |\n| audi      | a4                 | 2.8 | 1999 | 6 | manual(m5) | f | 18 | 26 | p | compact |\n| audi      | a4                 | 3.1 | 2008 | 6 | auto(av)   | f | 18 | 27 | p | compact |\n| audi      | a4 quattro         | 1.8 | 1999 | 4 | manual(m5) | 4 | 18 | 26 | p | compact |\n| audi      | a4 quattro         | 1.8 | 1999 | 4 | auto(l5)   | 4 | 16 | 25 | p | compact |\n| audi      | a4 quattro         | 2.0 | 2008 | 4 | manual(m6) | 4 | 20 | 28 | p | compact |\n| audi      | a4 quattro         | 2.0 | 2008 | 4 | auto(s6)   | 4 | 19 | 27 | p | compact |\n| audi      | a4 quattro         | 2.8 | 1999 | 6 | auto(l5)   | 4 | 15 | 25 | p | compact |\n| audi      | a4 quattro         | 2.8 | 1999 | 6 | manual(m5) | 4 | 17 | 25 | p | compact |\n| audi      | a4 quattro         | 3.1 | 2008 | 6 | auto(s6)   | 4 | 17 | 25 | p | compact |\n| audi      | a4 quattro         | 3.1 | 2008 | 6 | manual(m6) | 4 | 15 | 25 | p | compact |\n| audi      | a6 quattro         | 2.8 | 1999 | 6 | auto(l5)   | 4 | 15 | 24 | p | midsize |\n| audi      | a6 quattro         | 3.1 | 2008 | 6 | auto(s6)   | 4 | 17 | 25 | p | midsize |\n| audi      | a6 quattro         | 4.2 | 2008 | 8 | auto(s6)   | 4 | 16 | 23 | p | midsize |\n| chevrolet | c1500 suburban 2wd | 5.3 | 2008 | 8 | auto(l4)   | r | 14 | 20 | r | suv     |\n| chevrolet | c1500 suburban 2wd | 5.3 | 2008 | 8 | auto(l4)   | r | 11 | 15 | e | suv     |\n| chevrolet | c1500 suburban 2wd | 5.3 | 2008 | 8 | auto(l4)   | r | 14 | 20 | r | suv     |\n| chevrolet | c1500 suburban 2wd | 5.7 | 1999 | 8 | auto(l4)   | r | 13 | 17 | r | suv     |\n| chevrolet | c1500 suburban 2wd | 6.0 | 2008 | 8 | auto(l4)   | r | 12 | 17 | r | suv     |\n| chevrolet | corvette           | 5.7 | 1999 | 8 | manual(m6) | r | 16 | 26 | p | 2seater |\n| chevrolet | corvette           | 5.7 | 1999 | 8 | auto(l4)   | r | 15 | 23 | p | 2seater |\n| chevrolet | corvette           | 6.2 | 2008 | 8 | manual(m6) | r | 16 | 26 | p | 2seater |\n| chevrolet | corvette           | 6.2 | 2008 | 8 | auto(s6)   | r | 15 | 25 | p | 2seater |\n| chevrolet | corvette           | 7.0 | 2008 | 8 | manual(m6) | r | 15 | 24 | p | 2seater |\n| chevrolet | k1500 tahoe 4wd    | 5.3 | 2008 | 8 | auto(l4)   | 4 | 14 | 19 | r | suv     |\n| chevrolet | k1500 tahoe 4wd    | 5.3 | 2008 | 8 | auto(l4)   | 4 | 11 | 14 | e | suv     |\n| ⋮ | ⋮ | ⋮ | ⋮ | ⋮ | ⋮ | ⋮ | ⋮ | ⋮ | ⋮ | ⋮ |\n| toyota     | toyota tacoma 4wd | 3.4 | 1999 | 6 | auto(l4)   | 4 | 15 | 19 | r | pickup     |\n| toyota     | toyota tacoma 4wd | 4.0 | 2008 | 6 | manual(m6) | 4 | 15 | 18 | r | pickup     |\n| toyota     | toyota tacoma 4wd | 4.0 | 2008 | 6 | auto(l5)   | 4 | 16 | 20 | r | pickup     |\n| volkswagen | gti               | 2.0 | 1999 | 4 | manual(m5) | f | 21 | 29 | r | compact    |\n| volkswagen | gti               | 2.0 | 1999 | 4 | auto(l4)   | f | 19 | 26 | r | compact    |\n| volkswagen | gti               | 2.0 | 2008 | 4 | manual(m6) | f | 21 | 29 | p | compact    |\n| volkswagen | gti               | 2.0 | 2008 | 4 | auto(s6)   | f | 22 | 29 | p | compact    |\n| volkswagen | gti               | 2.8 | 1999 | 6 | manual(m5) | f | 17 | 24 | r | compact    |\n| volkswagen | jetta             | 1.9 | 1999 | 4 | manual(m5) | f | 33 | 44 | d | compact    |\n| volkswagen | jetta             | 2.0 | 1999 | 4 | manual(m5) | f | 21 | 29 | r | compact    |\n| volkswagen | jetta             | 2.0 | 1999 | 4 | auto(l4)   | f | 19 | 26 | r | compact    |\n| volkswagen | jetta             | 2.0 | 2008 | 4 | auto(s6)   | f | 22 | 29 | p | compact    |\n| volkswagen | jetta             | 2.0 | 2008 | 4 | manual(m6) | f | 21 | 29 | p | compact    |\n| volkswagen | jetta             | 2.5 | 2008 | 5 | auto(s6)   | f | 21 | 29 | r | compact    |\n| volkswagen | jetta             | 2.5 | 2008 | 5 | manual(m5) | f | 21 | 29 | r | compact    |\n| volkswagen | jetta             | 2.8 | 1999 | 6 | auto(l4)   | f | 16 | 23 | r | compact    |\n| volkswagen | jetta             | 2.8 | 1999 | 6 | manual(m5) | f | 17 | 24 | r | compact    |\n| volkswagen | new beetle        | 1.9 | 1999 | 4 | manual(m5) | f | 35 | 44 | d | subcompact |\n| volkswagen | new beetle        | 1.9 | 1999 | 4 | auto(l4)   | f | 29 | 41 | d | subcompact |\n| volkswagen | new beetle        | 2.0 | 1999 | 4 | manual(m5) | f | 21 | 29 | r | subcompact |\n| volkswagen | new beetle        | 2.0 | 1999 | 4 | auto(l4)   | f | 19 | 26 | r | subcompact |\n| volkswagen | new beetle        | 2.5 | 2008 | 5 | manual(m5) | f | 20 | 28 | r | subcompact |\n| volkswagen | new beetle        | 2.5 | 2008 | 5 | auto(s6)   | f | 20 | 29 | r | subcompact |\n| volkswagen | passat            | 1.8 | 1999 | 4 | manual(m5) | f | 21 | 29 | p | midsize    |\n| volkswagen | passat            | 1.8 | 1999 | 4 | auto(l5)   | f | 18 | 29 | p | midsize    |\n| volkswagen | passat            | 2.0 | 2008 | 4 | auto(s6)   | f | 19 | 28 | p | midsize    |\n| volkswagen | passat            | 2.0 | 2008 | 4 | manual(m6) | f | 21 | 29 | p | midsize    |\n| volkswagen | passat            | 2.8 | 1999 | 6 | auto(l5)   | f | 16 | 26 | p | midsize    |\n| volkswagen | passat            | 2.8 | 1999 | 6 | manual(m5) | f | 18 | 26 | p | midsize    |\n| volkswagen | passat            | 3.6 | 2008 | 6 | auto(s6)   | f | 17 | 26 | p | midsize    |\n\n",
            "text/latex": "A tibble: 234 × 11\n\\begin{tabular}{lllllllllll}\n manufacturer & model & displ & year & cyl & trans & drv & cty & hwy & fl & class\\\\\n <chr> & <chr> & <dbl> & <int> & <int> & <chr> & <chr> & <int> & <int> & <chr> & <chr>\\\\\n\\hline\n\t audi      & a4                 & 1.8 & 1999 & 4 & auto(l5)   & f & 18 & 29 & p & compact\\\\\n\t audi      & a4                 & 1.8 & 1999 & 4 & manual(m5) & f & 21 & 29 & p & compact\\\\\n\t audi      & a4                 & 2.0 & 2008 & 4 & manual(m6) & f & 20 & 31 & p & compact\\\\\n\t audi      & a4                 & 2.0 & 2008 & 4 & auto(av)   & f & 21 & 30 & p & compact\\\\\n\t audi      & a4                 & 2.8 & 1999 & 6 & auto(l5)   & f & 16 & 26 & p & compact\\\\\n\t audi      & a4                 & 2.8 & 1999 & 6 & manual(m5) & f & 18 & 26 & p & compact\\\\\n\t audi      & a4                 & 3.1 & 2008 & 6 & auto(av)   & f & 18 & 27 & p & compact\\\\\n\t audi      & a4 quattro         & 1.8 & 1999 & 4 & manual(m5) & 4 & 18 & 26 & p & compact\\\\\n\t audi      & a4 quattro         & 1.8 & 1999 & 4 & auto(l5)   & 4 & 16 & 25 & p & compact\\\\\n\t audi      & a4 quattro         & 2.0 & 2008 & 4 & manual(m6) & 4 & 20 & 28 & p & compact\\\\\n\t audi      & a4 quattro         & 2.0 & 2008 & 4 & auto(s6)   & 4 & 19 & 27 & p & compact\\\\\n\t audi      & a4 quattro         & 2.8 & 1999 & 6 & auto(l5)   & 4 & 15 & 25 & p & compact\\\\\n\t audi      & a4 quattro         & 2.8 & 1999 & 6 & manual(m5) & 4 & 17 & 25 & p & compact\\\\\n\t audi      & a4 quattro         & 3.1 & 2008 & 6 & auto(s6)   & 4 & 17 & 25 & p & compact\\\\\n\t audi      & a4 quattro         & 3.1 & 2008 & 6 & manual(m6) & 4 & 15 & 25 & p & compact\\\\\n\t audi      & a6 quattro         & 2.8 & 1999 & 6 & auto(l5)   & 4 & 15 & 24 & p & midsize\\\\\n\t audi      & a6 quattro         & 3.1 & 2008 & 6 & auto(s6)   & 4 & 17 & 25 & p & midsize\\\\\n\t audi      & a6 quattro         & 4.2 & 2008 & 8 & auto(s6)   & 4 & 16 & 23 & p & midsize\\\\\n\t chevrolet & c1500 suburban 2wd & 5.3 & 2008 & 8 & auto(l4)   & r & 14 & 20 & r & suv    \\\\\n\t chevrolet & c1500 suburban 2wd & 5.3 & 2008 & 8 & auto(l4)   & r & 11 & 15 & e & suv    \\\\\n\t chevrolet & c1500 suburban 2wd & 5.3 & 2008 & 8 & auto(l4)   & r & 14 & 20 & r & suv    \\\\\n\t chevrolet & c1500 suburban 2wd & 5.7 & 1999 & 8 & auto(l4)   & r & 13 & 17 & r & suv    \\\\\n\t chevrolet & c1500 suburban 2wd & 6.0 & 2008 & 8 & auto(l4)   & r & 12 & 17 & r & suv    \\\\\n\t chevrolet & corvette           & 5.7 & 1999 & 8 & manual(m6) & r & 16 & 26 & p & 2seater\\\\\n\t chevrolet & corvette           & 5.7 & 1999 & 8 & auto(l4)   & r & 15 & 23 & p & 2seater\\\\\n\t chevrolet & corvette           & 6.2 & 2008 & 8 & manual(m6) & r & 16 & 26 & p & 2seater\\\\\n\t chevrolet & corvette           & 6.2 & 2008 & 8 & auto(s6)   & r & 15 & 25 & p & 2seater\\\\\n\t chevrolet & corvette           & 7.0 & 2008 & 8 & manual(m6) & r & 15 & 24 & p & 2seater\\\\\n\t chevrolet & k1500 tahoe 4wd    & 5.3 & 2008 & 8 & auto(l4)   & 4 & 14 & 19 & r & suv    \\\\\n\t chevrolet & k1500 tahoe 4wd    & 5.3 & 2008 & 8 & auto(l4)   & 4 & 11 & 14 & e & suv    \\\\\n\t ⋮ & ⋮ & ⋮ & ⋮ & ⋮ & ⋮ & ⋮ & ⋮ & ⋮ & ⋮ & ⋮\\\\\n\t toyota     & toyota tacoma 4wd & 3.4 & 1999 & 6 & auto(l4)   & 4 & 15 & 19 & r & pickup    \\\\\n\t toyota     & toyota tacoma 4wd & 4.0 & 2008 & 6 & manual(m6) & 4 & 15 & 18 & r & pickup    \\\\\n\t toyota     & toyota tacoma 4wd & 4.0 & 2008 & 6 & auto(l5)   & 4 & 16 & 20 & r & pickup    \\\\\n\t volkswagen & gti               & 2.0 & 1999 & 4 & manual(m5) & f & 21 & 29 & r & compact   \\\\\n\t volkswagen & gti               & 2.0 & 1999 & 4 & auto(l4)   & f & 19 & 26 & r & compact   \\\\\n\t volkswagen & gti               & 2.0 & 2008 & 4 & manual(m6) & f & 21 & 29 & p & compact   \\\\\n\t volkswagen & gti               & 2.0 & 2008 & 4 & auto(s6)   & f & 22 & 29 & p & compact   \\\\\n\t volkswagen & gti               & 2.8 & 1999 & 6 & manual(m5) & f & 17 & 24 & r & compact   \\\\\n\t volkswagen & jetta             & 1.9 & 1999 & 4 & manual(m5) & f & 33 & 44 & d & compact   \\\\\n\t volkswagen & jetta             & 2.0 & 1999 & 4 & manual(m5) & f & 21 & 29 & r & compact   \\\\\n\t volkswagen & jetta             & 2.0 & 1999 & 4 & auto(l4)   & f & 19 & 26 & r & compact   \\\\\n\t volkswagen & jetta             & 2.0 & 2008 & 4 & auto(s6)   & f & 22 & 29 & p & compact   \\\\\n\t volkswagen & jetta             & 2.0 & 2008 & 4 & manual(m6) & f & 21 & 29 & p & compact   \\\\\n\t volkswagen & jetta             & 2.5 & 2008 & 5 & auto(s6)   & f & 21 & 29 & r & compact   \\\\\n\t volkswagen & jetta             & 2.5 & 2008 & 5 & manual(m5) & f & 21 & 29 & r & compact   \\\\\n\t volkswagen & jetta             & 2.8 & 1999 & 6 & auto(l4)   & f & 16 & 23 & r & compact   \\\\\n\t volkswagen & jetta             & 2.8 & 1999 & 6 & manual(m5) & f & 17 & 24 & r & compact   \\\\\n\t volkswagen & new beetle        & 1.9 & 1999 & 4 & manual(m5) & f & 35 & 44 & d & subcompact\\\\\n\t volkswagen & new beetle        & 1.9 & 1999 & 4 & auto(l4)   & f & 29 & 41 & d & subcompact\\\\\n\t volkswagen & new beetle        & 2.0 & 1999 & 4 & manual(m5) & f & 21 & 29 & r & subcompact\\\\\n\t volkswagen & new beetle        & 2.0 & 1999 & 4 & auto(l4)   & f & 19 & 26 & r & subcompact\\\\\n\t volkswagen & new beetle        & 2.5 & 2008 & 5 & manual(m5) & f & 20 & 28 & r & subcompact\\\\\n\t volkswagen & new beetle        & 2.5 & 2008 & 5 & auto(s6)   & f & 20 & 29 & r & subcompact\\\\\n\t volkswagen & passat            & 1.8 & 1999 & 4 & manual(m5) & f & 21 & 29 & p & midsize   \\\\\n\t volkswagen & passat            & 1.8 & 1999 & 4 & auto(l5)   & f & 18 & 29 & p & midsize   \\\\\n\t volkswagen & passat            & 2.0 & 2008 & 4 & auto(s6)   & f & 19 & 28 & p & midsize   \\\\\n\t volkswagen & passat            & 2.0 & 2008 & 4 & manual(m6) & f & 21 & 29 & p & midsize   \\\\\n\t volkswagen & passat            & 2.8 & 1999 & 6 & auto(l5)   & f & 16 & 26 & p & midsize   \\\\\n\t volkswagen & passat            & 2.8 & 1999 & 6 & manual(m5) & f & 18 & 26 & p & midsize   \\\\\n\t volkswagen & passat            & 3.6 & 2008 & 6 & auto(s6)   & f & 17 & 26 & p & midsize   \\\\\n\\end{tabular}\n",
            "text/plain": [
              "    manufacturer model              displ year cyl trans      drv cty hwy fl\n",
              "1   audi         a4                 1.8   1999 4   auto(l5)   f   18  29  p \n",
              "2   audi         a4                 1.8   1999 4   manual(m5) f   21  29  p \n",
              "3   audi         a4                 2.0   2008 4   manual(m6) f   20  31  p \n",
              "4   audi         a4                 2.0   2008 4   auto(av)   f   21  30  p \n",
              "5   audi         a4                 2.8   1999 6   auto(l5)   f   16  26  p \n",
              "6   audi         a4                 2.8   1999 6   manual(m5) f   18  26  p \n",
              "7   audi         a4                 3.1   2008 6   auto(av)   f   18  27  p \n",
              "8   audi         a4 quattro         1.8   1999 4   manual(m5) 4   18  26  p \n",
              "9   audi         a4 quattro         1.8   1999 4   auto(l5)   4   16  25  p \n",
              "10  audi         a4 quattro         2.0   2008 4   manual(m6) 4   20  28  p \n",
              "11  audi         a4 quattro         2.0   2008 4   auto(s6)   4   19  27  p \n",
              "12  audi         a4 quattro         2.8   1999 6   auto(l5)   4   15  25  p \n",
              "13  audi         a4 quattro         2.8   1999 6   manual(m5) 4   17  25  p \n",
              "14  audi         a4 quattro         3.1   2008 6   auto(s6)   4   17  25  p \n",
              "15  audi         a4 quattro         3.1   2008 6   manual(m6) 4   15  25  p \n",
              "16  audi         a6 quattro         2.8   1999 6   auto(l5)   4   15  24  p \n",
              "17  audi         a6 quattro         3.1   2008 6   auto(s6)   4   17  25  p \n",
              "18  audi         a6 quattro         4.2   2008 8   auto(s6)   4   16  23  p \n",
              "19  chevrolet    c1500 suburban 2wd 5.3   2008 8   auto(l4)   r   14  20  r \n",
              "20  chevrolet    c1500 suburban 2wd 5.3   2008 8   auto(l4)   r   11  15  e \n",
              "21  chevrolet    c1500 suburban 2wd 5.3   2008 8   auto(l4)   r   14  20  r \n",
              "22  chevrolet    c1500 suburban 2wd 5.7   1999 8   auto(l4)   r   13  17  r \n",
              "23  chevrolet    c1500 suburban 2wd 6.0   2008 8   auto(l4)   r   12  17  r \n",
              "24  chevrolet    corvette           5.7   1999 8   manual(m6) r   16  26  p \n",
              "25  chevrolet    corvette           5.7   1999 8   auto(l4)   r   15  23  p \n",
              "26  chevrolet    corvette           6.2   2008 8   manual(m6) r   16  26  p \n",
              "27  chevrolet    corvette           6.2   2008 8   auto(s6)   r   15  25  p \n",
              "28  chevrolet    corvette           7.0   2008 8   manual(m6) r   15  24  p \n",
              "29  chevrolet    k1500 tahoe 4wd    5.3   2008 8   auto(l4)   4   14  19  r \n",
              "30  chevrolet    k1500 tahoe 4wd    5.3   2008 8   auto(l4)   4   11  14  e \n",
              "⋮   ⋮            ⋮                  ⋮     ⋮    ⋮   ⋮          ⋮   ⋮   ⋮   ⋮ \n",
              "205 toyota       toyota tacoma 4wd  3.4   1999 6   auto(l4)   4   15  19  r \n",
              "206 toyota       toyota tacoma 4wd  4.0   2008 6   manual(m6) 4   15  18  r \n",
              "207 toyota       toyota tacoma 4wd  4.0   2008 6   auto(l5)   4   16  20  r \n",
              "208 volkswagen   gti                2.0   1999 4   manual(m5) f   21  29  r \n",
              "209 volkswagen   gti                2.0   1999 4   auto(l4)   f   19  26  r \n",
              "210 volkswagen   gti                2.0   2008 4   manual(m6) f   21  29  p \n",
              "211 volkswagen   gti                2.0   2008 4   auto(s6)   f   22  29  p \n",
              "212 volkswagen   gti                2.8   1999 6   manual(m5) f   17  24  r \n",
              "213 volkswagen   jetta              1.9   1999 4   manual(m5) f   33  44  d \n",
              "214 volkswagen   jetta              2.0   1999 4   manual(m5) f   21  29  r \n",
              "215 volkswagen   jetta              2.0   1999 4   auto(l4)   f   19  26  r \n",
              "216 volkswagen   jetta              2.0   2008 4   auto(s6)   f   22  29  p \n",
              "217 volkswagen   jetta              2.0   2008 4   manual(m6) f   21  29  p \n",
              "218 volkswagen   jetta              2.5   2008 5   auto(s6)   f   21  29  r \n",
              "219 volkswagen   jetta              2.5   2008 5   manual(m5) f   21  29  r \n",
              "220 volkswagen   jetta              2.8   1999 6   auto(l4)   f   16  23  r \n",
              "221 volkswagen   jetta              2.8   1999 6   manual(m5) f   17  24  r \n",
              "222 volkswagen   new beetle         1.9   1999 4   manual(m5) f   35  44  d \n",
              "223 volkswagen   new beetle         1.9   1999 4   auto(l4)   f   29  41  d \n",
              "224 volkswagen   new beetle         2.0   1999 4   manual(m5) f   21  29  r \n",
              "225 volkswagen   new beetle         2.0   1999 4   auto(l4)   f   19  26  r \n",
              "226 volkswagen   new beetle         2.5   2008 5   manual(m5) f   20  28  r \n",
              "227 volkswagen   new beetle         2.5   2008 5   auto(s6)   f   20  29  r \n",
              "228 volkswagen   passat             1.8   1999 4   manual(m5) f   21  29  p \n",
              "229 volkswagen   passat             1.8   1999 4   auto(l5)   f   18  29  p \n",
              "230 volkswagen   passat             2.0   2008 4   auto(s6)   f   19  28  p \n",
              "231 volkswagen   passat             2.0   2008 4   manual(m6) f   21  29  p \n",
              "232 volkswagen   passat             2.8   1999 6   auto(l5)   f   16  26  p \n",
              "233 volkswagen   passat             2.8   1999 6   manual(m5) f   18  26  p \n",
              "234 volkswagen   passat             3.6   2008 6   auto(s6)   f   17  26  p \n",
              "    class     \n",
              "1   compact   \n",
              "2   compact   \n",
              "3   compact   \n",
              "4   compact   \n",
              "5   compact   \n",
              "6   compact   \n",
              "7   compact   \n",
              "8   compact   \n",
              "9   compact   \n",
              "10  compact   \n",
              "11  compact   \n",
              "12  compact   \n",
              "13  compact   \n",
              "14  compact   \n",
              "15  compact   \n",
              "16  midsize   \n",
              "17  midsize   \n",
              "18  midsize   \n",
              "19  suv       \n",
              "20  suv       \n",
              "21  suv       \n",
              "22  suv       \n",
              "23  suv       \n",
              "24  2seater   \n",
              "25  2seater   \n",
              "26  2seater   \n",
              "27  2seater   \n",
              "28  2seater   \n",
              "29  suv       \n",
              "30  suv       \n",
              "⋮   ⋮         \n",
              "205 pickup    \n",
              "206 pickup    \n",
              "207 pickup    \n",
              "208 compact   \n",
              "209 compact   \n",
              "210 compact   \n",
              "211 compact   \n",
              "212 compact   \n",
              "213 compact   \n",
              "214 compact   \n",
              "215 compact   \n",
              "216 compact   \n",
              "217 compact   \n",
              "218 compact   \n",
              "219 compact   \n",
              "220 compact   \n",
              "221 compact   \n",
              "222 subcompact\n",
              "223 subcompact\n",
              "224 subcompact\n",
              "225 subcompact\n",
              "226 subcompact\n",
              "227 subcompact\n",
              "228 midsize   \n",
              "229 midsize   \n",
              "230 midsize   \n",
              "231 midsize   \n",
              "232 midsize   \n",
              "233 midsize   \n",
              "234 midsize   "
            ]
          },
          "metadata": {}
        }
      ]
    },
    {
      "cell_type": "code",
      "source": [
        "ggplot(data = mpg) +    #this line adds the data and creates an empty graph\n",
        "  geom_point(mapping = aes(x = displ, y = hwy))   #this adds a layer with the geometric function (points) and the mapping (aes = aesthetic)\n"
      ],
      "metadata": {
        "id": "U0JmPsnAksqe",
        "outputId": "c64cb0b9-c378-4588-a968-1be98c1572af",
        "colab": {
          "base_uri": "https://localhost:8080/",
          "height": 437
        }
      },
      "execution_count": null,
      "outputs": [
        {
          "output_type": "display_data",
          "data": {
            "text/plain": [
              "plot without title"
            ],
            "image/png": "[encoded data removed]"
          },
          "metadata": {
            "image/png": {
              "width": 420,
              "height": 420
            }
          }
        }
      ]
    },
    {
      "cell_type": "code",
      "source": [],
      "metadata": {
        "id": "ezJ15FJSUAJM"
      },
      "execution_count": null,
      "outputs": []
    }
  ]
}